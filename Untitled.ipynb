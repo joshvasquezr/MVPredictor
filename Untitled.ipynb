{
 "cells": [
  {
   "cell_type": "code",
   "execution_count": null,
   "id": "148efd91-dfe3-4b85-9ce2-365660f09bef",
   "metadata": {},
   "outputs": [],
   "source": [
    "!conda install requests\n",
    "\n",
    "y"
   ]
  },
  {
   "cell_type": "code",
   "execution_count": null,
   "id": "0ebc6859-d35b-495c-b94f-0a5c101f5ce1",
   "metadata": {},
   "outputs": [],
   "source": [
    "years = range(1991, 2022)"
   ]
  },
  {
   "cell_type": "code",
   "execution_count": null,
   "id": "4278c271-b8cf-4075-bc57-d69f72f04f9e",
   "metadata": {},
   "outputs": [],
   "source": [
    "years"
   ]
  },
  {
   "cell_type": "code",
   "execution_count": null,
   "id": "f236eb90-17cb-4755-8084-0a68b89d67af",
   "metadata": {},
   "outputs": [],
   "source": []
  }
 ],
 "metadata": {
  "kernelspec": {
   "display_name": "Python (ml_env)",
   "language": "python",
   "name": "ml_env"
  },
  "language_info": {
   "codemirror_mode": {
    "name": "ipython",
    "version": 3
   },
   "file_extension": ".py",
   "mimetype": "text/x-python",
   "name": "python",
   "nbconvert_exporter": "python",
   "pygments_lexer": "ipython3",
   "version": "3.9.21"
  }
 },
 "nbformat": 4,
 "nbformat_minor": 5
}
